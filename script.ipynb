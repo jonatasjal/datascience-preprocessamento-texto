{
 "cells": [
  {
   "attachments": {},
   "cell_type": "markdown",
   "metadata": {},
   "source": [
    "## Instalando e Carregando os Pacotes"
   ]
  },
  {
   "cell_type": "code",
   "execution_count": 2,
   "metadata": {},
   "outputs": [],
   "source": [
    "# Instalação do pacote do Mongodb\n",
    "!pip install -q pymongo"
   ]
  },
  {
   "cell_type": "code",
   "execution_count": 1,
   "metadata": {},
   "outputs": [],
   "source": [
    "# Bibliotecas\n",
    "import json\n",
    "import pymongo \n",
    "import numpy as np\n",
    "import pandas as pd\n",
    "import matplotlib.pyplot as plt\n",
    "import seaborn as sns\n",
    "import warnings\n",
    "warnings.filterwarnings('ignore')"
   ]
  },
  {
   "attachments": {},
   "cell_type": "markdown",
   "metadata": {},
   "source": [
    "## Conectando no Data Lake"
   ]
  },
  {
   "cell_type": "code",
   "execution_count": 2,
   "metadata": {},
   "outputs": [],
   "source": [
    "# Abre uma conexão Mongo\n",
    "client = pymongo.MongoClient(\"mongodb://localhost:27017/\")"
   ]
  },
  {
   "cell_type": "code",
   "execution_count": 3,
   "metadata": {},
   "outputs": [
    {
     "data": {
      "text/plain": [
       "MongoClient(host=['localhost:27017'], document_class=dict, tz_aware=False, connect=True)"
      ]
     },
     "execution_count": 3,
     "metadata": {},
     "output_type": "execute_result"
    }
   ],
   "source": [
    "# Visualizando a conexão\n",
    "client"
   ]
  },
  {
   "cell_type": "code",
   "execution_count": 4,
   "metadata": {},
   "outputs": [
    {
     "data": {
      "text/plain": [
       "Database(MongoClient(host=['localhost:27017'], document_class=dict, tz_aware=False, connect=True), 'datalake')"
      ]
     },
     "execution_count": 4,
     "metadata": {},
     "output_type": "execute_result"
    }
   ],
   "source": [
    "# Criando um repositório (banco de dados) chamado datalake\n",
    "# Atenção: do lado esquerda do '=' é uma variávek python com o mesmo nome que o repositório no Mongodb\n",
    "datalake = client[\"datalake\"]\n",
    "datalake"
   ]
  },
  {
   "attachments": {},
   "cell_type": "markdown",
   "metadata": {},
   "source": [
    ">Analisando o dataset usado"
   ]
  },
  {
   "cell_type": "code",
   "execution_count": null,
   "metadata": {},
   "outputs": [],
   "source": [
    "# Se existir, deleta a coleção chamada posts\n",
    "datalake.posts.drop()"
   ]
  },
  {
   "cell_type": "code",
   "execution_count": 5,
   "metadata": {},
   "outputs": [
    {
     "data": {
      "text/html": [
       "<div>\n",
       "<style scoped>\n",
       "    .dataframe tbody tr th:only-of-type {\n",
       "        vertical-align: middle;\n",
       "    }\n",
       "\n",
       "    .dataframe tbody tr th {\n",
       "        vertical-align: top;\n",
       "    }\n",
       "\n",
       "    .dataframe thead th {\n",
       "        text-align: right;\n",
       "    }\n",
       "</style>\n",
       "<table border=\"1\" class=\"dataframe\">\n",
       "  <thead>\n",
       "    <tr style=\"text-align: right;\">\n",
       "      <th></th>\n",
       "      <th>status</th>\n",
       "      <th>creationDate</th>\n",
       "      <th>allowComments</th>\n",
       "      <th>title</th>\n",
       "      <th>description</th>\n",
       "      <th>tags</th>\n",
       "      <th>Category</th>\n",
       "      <th>filteredPicture</th>\n",
       "    </tr>\n",
       "  </thead>\n",
       "  <tbody>\n",
       "    <tr>\n",
       "      <th>0</th>\n",
       "      <td>public</td>\n",
       "      <td>2017-07-17T20:05:49Z</td>\n",
       "      <td>True</td>\n",
       "      <td>ligula nec sem duis aliquam</td>\n",
       "      <td>in felis eu sapien cursus vestibulum proin eu ...</td>\n",
       "      <td>1</td>\n",
       "      <td>lifestyle</td>\n",
       "      <td>False</td>\n",
       "    </tr>\n",
       "    <tr>\n",
       "      <th>1</th>\n",
       "      <td>private</td>\n",
       "      <td>2019-01-19T15:45:57Z</td>\n",
       "      <td>False</td>\n",
       "      <td>mus vivamus vestibulum sagittis sapien cum</td>\n",
       "      <td>nec nisi volutpat eleifend donec ut dolor morb...</td>\n",
       "      <td>0</td>\n",
       "      <td>lifestyle</td>\n",
       "      <td>False</td>\n",
       "    </tr>\n",
       "    <tr>\n",
       "      <th>2</th>\n",
       "      <td>private</td>\n",
       "      <td>2019-03-22T17:18:15Z</td>\n",
       "      <td>True</td>\n",
       "      <td>vel nulla eget eros elementum</td>\n",
       "      <td>quis orci nullam molestie nibh in lectus pelle...</td>\n",
       "      <td>6</td>\n",
       "      <td>politics</td>\n",
       "      <td>True</td>\n",
       "    </tr>\n",
       "    <tr>\n",
       "      <th>3</th>\n",
       "      <td>public</td>\n",
       "      <td>2019-05-12T13:20:40Z</td>\n",
       "      <td>True</td>\n",
       "      <td>orci luctus et</td>\n",
       "      <td>rhoncus dui vel sem sed sagittis nam congue ri...</td>\n",
       "      <td>5</td>\n",
       "      <td>movies</td>\n",
       "      <td>False</td>\n",
       "    </tr>\n",
       "    <tr>\n",
       "      <th>4</th>\n",
       "      <td>public</td>\n",
       "      <td>2018-07-09T18:55:10Z</td>\n",
       "      <td>False</td>\n",
       "      <td>sed lacus morbi sem</td>\n",
       "      <td>porta volutpat quam pede lobortis ligula sit a...</td>\n",
       "      <td>0</td>\n",
       "      <td>arts</td>\n",
       "      <td>True</td>\n",
       "    </tr>\n",
       "    <tr>\n",
       "      <th>...</th>\n",
       "      <td>...</td>\n",
       "      <td>...</td>\n",
       "      <td>...</td>\n",
       "      <td>...</td>\n",
       "      <td>...</td>\n",
       "      <td>...</td>\n",
       "      <td>...</td>\n",
       "      <td>...</td>\n",
       "    </tr>\n",
       "    <tr>\n",
       "      <th>1995</th>\n",
       "      <td>private</td>\n",
       "      <td>2017-06-16T01:56:15Z</td>\n",
       "      <td>False</td>\n",
       "      <td>turpis nec euismod scelerisque quam turpis</td>\n",
       "      <td>aliquet at feugiat non pretium quis lectus sus...</td>\n",
       "      <td>1</td>\n",
       "      <td>arts</td>\n",
       "      <td>True</td>\n",
       "    </tr>\n",
       "    <tr>\n",
       "      <th>1996</th>\n",
       "      <td>private</td>\n",
       "      <td>2018-11-14T21:40:53Z</td>\n",
       "      <td>True</td>\n",
       "      <td>nulla pede ullamcorper augue</td>\n",
       "      <td>parturient montes nascetur ridiculus mus etiam...</td>\n",
       "      <td>5</td>\n",
       "      <td>arts</td>\n",
       "      <td>True</td>\n",
       "    </tr>\n",
       "    <tr>\n",
       "      <th>1997</th>\n",
       "      <td>private</td>\n",
       "      <td>2017-01-26T19:50:54Z</td>\n",
       "      <td>False</td>\n",
       "      <td>sed lacus morbi sem mauris</td>\n",
       "      <td>cursus id turpis integer aliquet massa id lobo...</td>\n",
       "      <td>3</td>\n",
       "      <td>lifestyle</td>\n",
       "      <td>False</td>\n",
       "    </tr>\n",
       "    <tr>\n",
       "      <th>1998</th>\n",
       "      <td>private</td>\n",
       "      <td>2017-03-29T17:07:25Z</td>\n",
       "      <td>True</td>\n",
       "      <td>dui luctus rutrum nulla tellus in</td>\n",
       "      <td>sagittis dui vel nisl duis ac nibh fusce lacus...</td>\n",
       "      <td>9</td>\n",
       "      <td>lifestyle</td>\n",
       "      <td>False</td>\n",
       "    </tr>\n",
       "    <tr>\n",
       "      <th>1999</th>\n",
       "      <td>private</td>\n",
       "      <td>2021-05-19T15:08:25Z</td>\n",
       "      <td>True</td>\n",
       "      <td>leo maecenas pulvinar</td>\n",
       "      <td>id sapien in sapien iaculis congue vivamus met...</td>\n",
       "      <td>0</td>\n",
       "      <td>politics</td>\n",
       "      <td>False</td>\n",
       "    </tr>\n",
       "  </tbody>\n",
       "</table>\n",
       "<p>2000 rows × 8 columns</p>\n",
       "</div>"
      ],
      "text/plain": [
       "       status          creationDate  allowComments  \\\n",
       "0      public  2017-07-17T20:05:49Z           True   \n",
       "1     private  2019-01-19T15:45:57Z          False   \n",
       "2     private  2019-03-22T17:18:15Z           True   \n",
       "3      public  2019-05-12T13:20:40Z           True   \n",
       "4      public  2018-07-09T18:55:10Z          False   \n",
       "...       ...                   ...            ...   \n",
       "1995  private  2017-06-16T01:56:15Z          False   \n",
       "1996  private  2018-11-14T21:40:53Z           True   \n",
       "1997  private  2017-01-26T19:50:54Z          False   \n",
       "1998  private  2017-03-29T17:07:25Z           True   \n",
       "1999  private  2021-05-19T15:08:25Z           True   \n",
       "\n",
       "                                           title  \\\n",
       "0                    ligula nec sem duis aliquam   \n",
       "1     mus vivamus vestibulum sagittis sapien cum   \n",
       "2                  vel nulla eget eros elementum   \n",
       "3                                 orci luctus et   \n",
       "4                            sed lacus morbi sem   \n",
       "...                                          ...   \n",
       "1995  turpis nec euismod scelerisque quam turpis   \n",
       "1996                nulla pede ullamcorper augue   \n",
       "1997                  sed lacus morbi sem mauris   \n",
       "1998           dui luctus rutrum nulla tellus in   \n",
       "1999                       leo maecenas pulvinar   \n",
       "\n",
       "                                            description  tags   Category  \\\n",
       "0     in felis eu sapien cursus vestibulum proin eu ...     1  lifestyle   \n",
       "1     nec nisi volutpat eleifend donec ut dolor morb...     0  lifestyle   \n",
       "2     quis orci nullam molestie nibh in lectus pelle...     6   politics   \n",
       "3     rhoncus dui vel sem sed sagittis nam congue ri...     5     movies   \n",
       "4     porta volutpat quam pede lobortis ligula sit a...     0       arts   \n",
       "...                                                 ...   ...        ...   \n",
       "1995  aliquet at feugiat non pretium quis lectus sus...     1       arts   \n",
       "1996  parturient montes nascetur ridiculus mus etiam...     5       arts   \n",
       "1997  cursus id turpis integer aliquet massa id lobo...     3  lifestyle   \n",
       "1998  sagittis dui vel nisl duis ac nibh fusce lacus...     9  lifestyle   \n",
       "1999  id sapien in sapien iaculis congue vivamus met...     0   politics   \n",
       "\n",
       "      filteredPicture  \n",
       "0               False  \n",
       "1               False  \n",
       "2                True  \n",
       "3               False  \n",
       "4                True  \n",
       "...               ...  \n",
       "1995             True  \n",
       "1996             True  \n",
       "1997            False  \n",
       "1998            False  \n",
       "1999            False  \n",
       "\n",
       "[2000 rows x 8 columns]"
      ]
     },
     "execution_count": 5,
     "metadata": {},
     "output_type": "execute_result"
    }
   ],
   "source": [
    "dataset = pd.read_json('dados/dataset.json')\n",
    "dataset"
   ]
  },
  {
   "cell_type": "code",
   "execution_count": 9,
   "metadata": {},
   "outputs": [],
   "source": [
    "# Cria a coleção chamada posts\n",
    "posts = datalake[\"posts\"]"
   ]
  },
  {
   "attachments": {},
   "cell_type": "markdown",
   "metadata": {},
   "source": [
    "## Carregando Dados no Data Lake"
   ]
  },
  {
   "cell_type": "code",
   "execution_count": 10,
   "metadata": {},
   "outputs": [],
   "source": [
    "# Carrega o arquivo(formato bruto) json em uma variável Python\n",
    "with open('dados/dataset.json') as file:\n",
    "    file_data = json.load(file)"
   ]
  },
  {
   "cell_type": "code",
   "execution_count": null,
   "metadata": {},
   "outputs": [],
   "source": [
    "file_data"
   ]
  },
  {
   "attachments": {},
   "cell_type": "markdown",
   "metadata": {},
   "source": [
    ">Como o volume de dados é pequeno, não precisamos fazer os procedimentos no Mongodb e depois, por código, trazer para o Python"
   ]
  },
  {
   "cell_type": "code",
   "execution_count": null,
   "metadata": {},
   "outputs": [],
   "source": [
    "# Inserindo o conteúdo do arquivo json na coleção 'posts'\n",
    "# Cada item do arquivo será um documento e usamos o bypass_document_validation para o caso de alguma linha corrompida, seja apresentada uma mensagem de erro\n",
    "posts.insert_many(file_data, ordered = False, bypass_document_validation = True)"
   ]
  },
  {
   "cell_type": "code",
   "execution_count": 15,
   "metadata": {},
   "outputs": [
    {
     "data": {
      "text/plain": [
       "{'_id': ObjectId('621562fd3cc1966e2c43e64f'),\n",
       " 'status': 'public',\n",
       " 'creationDate': '2017-07-17T20:05:49Z',\n",
       " 'allowComments': True,\n",
       " 'title': 'ligula nec sem duis aliquam',\n",
       " 'description': 'in felis eu sapien cursus vestibulum proin eu mi nulla ac enim in tempor turpis nec euismod scelerisque quam turpis adipiscing lorem vitae mattis nibh ligula nec sem duis aliquam convallis nunc proin at turpis a pede posuere nonummy integer non velit donec diam neque vestibulum eget vulputate ut ultrices vel augue vestibulum ante ipsum primis in faucibus orci luctus et ultrices posuere cubilia curae donec pharetra magna vestibulum aliquet ultrices erat tortor sollicitudin mi sit amet lobortis sapien sapien non mi integer ac neque duis bibendum morbi non',\n",
       " 'tags': 1,\n",
       " 'Category': 'lifestyle',\n",
       " 'filteredPicture': False}"
      ]
     },
     "execution_count": 15,
     "metadata": {},
     "output_type": "execute_result"
    }
   ],
   "source": [
    "# Retorna 1 registro\n",
    "posts.find_one()"
   ]
  },
  {
   "cell_type": "code",
   "execution_count": 16,
   "metadata": {},
   "outputs": [],
   "source": [
    "# Extraindo o número de documentos (posts)\n",
    "n = posts.estimated_document_count()"
   ]
  },
  {
   "cell_type": "code",
   "execution_count": 17,
   "metadata": {},
   "outputs": [
    {
     "data": {
      "text/plain": [
       "2000"
      ]
     },
     "execution_count": 17,
     "metadata": {},
     "output_type": "execute_result"
    }
   ],
   "source": [
    "n"
   ]
  },
  {
   "attachments": {},
   "cell_type": "markdown",
   "metadata": {},
   "source": [
    "## Pré-Processamento e Análise"
   ]
  },
  {
   "attachments": {},
   "cell_type": "markdown",
   "metadata": {},
   "source": [
    "> Agregação para calcular o número de posts em cada categoria."
   ]
  },
  {
   "cell_type": "code",
   "execution_count": 18,
   "metadata": {},
   "outputs": [],
   "source": [
    "# Calculando o número de posts por categoria\n",
    "# Lembrar que o símbolo '$' é um operador do Mongodb\n",
    "# SEMÂNTICA: associamos o 'id' à $Category, depois faremos um count usando o '$sum' para cada um dos elementos(1)\n",
    "# Os parâmetros '1' (ordem crescente) e -1 (ordem descrescente)\n",
    "posts_cat = posts.aggregate([{\"$group\": {\"_id\": \"$Category\", \"count\": {\"$sum\": 1}}},\n",
    "                             {\"$sort\": {\"_id.Category\": 1, \"count\": -1}}])"
   ]
  },
  {
   "cell_type": "code",
   "execution_count": 19,
   "metadata": {},
   "outputs": [
    {
     "name": "stdout",
     "output_type": "stream",
     "text": [
      "<pymongo.command_cursor.CommandCursor object at 0x7fcfaefa7a60>\n"
     ]
    }
   ],
   "source": [
    "print(posts_cat)"
   ]
  },
  {
   "cell_type": "code",
   "execution_count": 20,
   "metadata": {},
   "outputs": [],
   "source": [
    "# Convetendo o resultado obtido em um Dataframe\n",
    "pc_df = pd.DataFrame(list(posts_cat))"
   ]
  },
  {
   "cell_type": "code",
   "execution_count": 21,
   "metadata": {},
   "outputs": [
    {
     "data": {
      "text/html": [
       "<div>\n",
       "<style scoped>\n",
       "    .dataframe tbody tr th:only-of-type {\n",
       "        vertical-align: middle;\n",
       "    }\n",
       "\n",
       "    .dataframe tbody tr th {\n",
       "        vertical-align: top;\n",
       "    }\n",
       "\n",
       "    .dataframe thead th {\n",
       "        text-align: right;\n",
       "    }\n",
       "</style>\n",
       "<table border=\"1\" class=\"dataframe\">\n",
       "  <thead>\n",
       "    <tr style=\"text-align: right;\">\n",
       "      <th></th>\n",
       "      <th>_id</th>\n",
       "      <th>count</th>\n",
       "    </tr>\n",
       "  </thead>\n",
       "  <tbody>\n",
       "    <tr>\n",
       "      <th>0</th>\n",
       "      <td>arts</td>\n",
       "      <td>311</td>\n",
       "    </tr>\n",
       "    <tr>\n",
       "      <th>1</th>\n",
       "      <td>fashion</td>\n",
       "      <td>300</td>\n",
       "    </tr>\n",
       "    <tr>\n",
       "      <th>2</th>\n",
       "      <td>lifestyle</td>\n",
       "      <td>294</td>\n",
       "    </tr>\n",
       "    <tr>\n",
       "      <th>3</th>\n",
       "      <td>movies</td>\n",
       "      <td>289</td>\n",
       "    </tr>\n",
       "    <tr>\n",
       "      <th>4</th>\n",
       "      <td>educational</td>\n",
       "      <td>274</td>\n",
       "    </tr>\n",
       "  </tbody>\n",
       "</table>\n",
       "</div>"
      ],
      "text/plain": [
       "           _id  count\n",
       "0         arts    311\n",
       "1      fashion    300\n",
       "2    lifestyle    294\n",
       "3       movies    289\n",
       "4  educational    274"
      ]
     },
     "execution_count": 21,
     "metadata": {},
     "output_type": "execute_result"
    }
   ],
   "source": [
    "pc_df.head()"
   ]
  },
  {
   "cell_type": "code",
   "execution_count": 22,
   "metadata": {},
   "outputs": [
    {
     "data": {
      "text/plain": [
       "['arts', 'fashion', 'lifestyle', 'movies', 'educational', 'politics', 'sports']"
      ]
     },
     "execution_count": 22,
     "metadata": {},
     "output_type": "execute_result"
    }
   ],
   "source": [
    "# Listas os ids (categorias)\n",
    "list(pc_df['_id'])"
   ]
  },
  {
   "cell_type": "code",
   "execution_count": 23,
   "metadata": {},
   "outputs": [
    {
     "data": {
      "text/plain": [
       "<AxesSubplot:ylabel='count'>"
      ]
     },
     "execution_count": 23,
     "metadata": {},
     "output_type": "execute_result"
    },
    {
     "data": {
      "image/png": "[encoded data removed]",
      "text/plain": [
       "<Figure size 432x288 with 1 Axes>"
      ]
     },
     "metadata": {},
     "output_type": "display_data"
    }
   ],
   "source": [
    "# Plotando com um gráfico de pizza\n",
    "pc_df.plot.pie(y = 'count',\n",
    "               labels = pc_df['_id'],\n",
    "               autopct = '%1.1f%%',\n",
    "               startangle = 15, \n",
    "               shadow = True,\n",
    "               legend = False)"
   ]
  },
  {
   "attachments": {},
   "cell_type": "markdown",
   "metadata": {},
   "source": [
    "> Número de posts públicos e privados da categoria 'politics'."
   ]
  },
  {
   "cell_type": "code",
   "execution_count": 24,
   "metadata": {},
   "outputs": [],
   "source": [
    "# Antes de se realizar agregação, faremos um 'match', um casamento, que exerce a função de um filtro de tudo na categoria 'politics'\n",
    "pol_sta = posts.aggregate([{\"$match\": {\"Category\": \"politics\"}},\n",
    "                           {\"$group\": {\"_id\": \"$status\", \"count\": {\"$sum\": 1}}}])"
   ]
  },
  {
   "cell_type": "code",
   "execution_count": 25,
   "metadata": {},
   "outputs": [],
   "source": [
    "# Convetendo o resultado obtido em um Dataframe\n",
    "ps_df = pd.DataFrame(list(pol_sta))"
   ]
  },
  {
   "cell_type": "code",
   "execution_count": 26,
   "metadata": {},
   "outputs": [
    {
     "data": {
      "text/html": [
       "<div>\n",
       "<style scoped>\n",
       "    .dataframe tbody tr th:only-of-type {\n",
       "        vertical-align: middle;\n",
       "    }\n",
       "\n",
       "    .dataframe tbody tr th {\n",
       "        vertical-align: top;\n",
       "    }\n",
       "\n",
       "    .dataframe thead th {\n",
       "        text-align: right;\n",
       "    }\n",
       "</style>\n",
       "<table border=\"1\" class=\"dataframe\">\n",
       "  <thead>\n",
       "    <tr style=\"text-align: right;\">\n",
       "      <th></th>\n",
       "      <th>_id</th>\n",
       "      <th>count</th>\n",
       "    </tr>\n",
       "  </thead>\n",
       "  <tbody>\n",
       "    <tr>\n",
       "      <th>0</th>\n",
       "      <td>public</td>\n",
       "      <td>126</td>\n",
       "    </tr>\n",
       "    <tr>\n",
       "      <th>1</th>\n",
       "      <td>private</td>\n",
       "      <td>148</td>\n",
       "    </tr>\n",
       "  </tbody>\n",
       "</table>\n",
       "</div>"
      ],
      "text/plain": [
       "       _id  count\n",
       "0   public    126\n",
       "1  private    148"
      ]
     },
     "execution_count": 26,
     "metadata": {},
     "output_type": "execute_result"
    }
   ],
   "source": [
    "ps_df"
   ]
  },
  {
   "cell_type": "code",
   "execution_count": 27,
   "metadata": {},
   "outputs": [
    {
     "data": {
      "text/plain": [
       "<AxesSubplot:title={'center':'Número de Posts Públicos e Privados'}, xlabel='_id'>"
      ]
     },
     "execution_count": 27,
     "metadata": {},
     "output_type": "execute_result"
    },
    {
     "data": {
      "image/png": "[encoded data removed]",
      "text/plain": [
       "<Figure size 432x288 with 1 Axes>"
      ]
     },
     "metadata": {
      "needs_background": "light"
     },
     "output_type": "display_data"
    }
   ],
   "source": [
    "# Plotando em um gráfico de barras\n",
    "ps_df.plot.bar(x = '_id',\n",
    "               y = 'count',\n",
    "               title = \"Número de Posts Públicos e Privados\")"
   ]
  },
  {
   "attachments": {},
   "cell_type": "markdown",
   "metadata": {},
   "source": [
    "> Verificando o ano que teve o maior número de posts"
   ]
  },
  {
   "cell_type": "code",
   "execution_count": 28,
   "metadata": {},
   "outputs": [
    {
     "data": {
      "text/plain": [
       "{'_id': ObjectId('621562fd3cc1966e2c43e64f'),\n",
       " 'status': 'public',\n",
       " 'creationDate': '2017-07-17T20:05:49Z',\n",
       " 'allowComments': True,\n",
       " 'title': 'ligula nec sem duis aliquam',\n",
       " 'description': 'in felis eu sapien cursus vestibulum proin eu mi nulla ac enim in tempor turpis nec euismod scelerisque quam turpis adipiscing lorem vitae mattis nibh ligula nec sem duis aliquam convallis nunc proin at turpis a pede posuere nonummy integer non velit donec diam neque vestibulum eget vulputate ut ultrices vel augue vestibulum ante ipsum primis in faucibus orci luctus et ultrices posuere cubilia curae donec pharetra magna vestibulum aliquet ultrices erat tortor sollicitudin mi sit amet lobortis sapien sapien non mi integer ac neque duis bibendum morbi non',\n",
       " 'tags': 1,\n",
       " 'Category': 'lifestyle',\n",
       " 'filteredPicture': False}"
      ]
     },
     "execution_count": 28,
     "metadata": {},
     "output_type": "execute_result"
    }
   ],
   "source": [
    "# Testando com 1 registro\n",
    "# A coluna 'creationDate' nos informa a data de criação do post\n",
    "posts.find_one()"
   ]
  },
  {
   "attachments": {},
   "cell_type": "markdown",
   "metadata": {},
   "source": [
    "Será necessário extrairmos o ano para fazermos a agregação por esse critério, para isso, faremos um pré-processamento dos dados, usando a função update.many()"
   ]
  },
  {
   "cell_type": "code",
   "execution_count": 29,
   "metadata": {},
   "outputs": [],
   "source": [
    "# SEMÂNTICA: pegamos posts de datalake e chamamos a fumção update_many e dentro da função:\n",
    "# {} para indicar que não há filtros; chamamos o operador $set para criar nova coluna chamada 'hour' e preenchemos com '0'\n",
    "datalake.posts.update_many({}, {'$set': {'hour': 0}})\n",
    "# O mesmo processo para 'year'\n",
    "datalake.posts.update_many({}, {'$set': {'$year': 0}})"
   ]
  },
  {
   "cell_type": "code",
   "execution_count": 30,
   "metadata": {},
   "outputs": [
    {
     "data": {
      "text/plain": [
       "{'_id': ObjectId('621562fd3cc1966e2c43e64f'),\n",
       " 'status': 'public',\n",
       " 'creationDate': '2017-07-17T20:05:49Z',\n",
       " 'allowComments': True,\n",
       " 'title': 'ligula nec sem duis aliquam',\n",
       " 'description': 'in felis eu sapien cursus vestibulum proin eu mi nulla ac enim in tempor turpis nec euismod scelerisque quam turpis adipiscing lorem vitae mattis nibh ligula nec sem duis aliquam convallis nunc proin at turpis a pede posuere nonummy integer non velit donec diam neque vestibulum eget vulputate ut ultrices vel augue vestibulum ante ipsum primis in faucibus orci luctus et ultrices posuere cubilia curae donec pharetra magna vestibulum aliquet ultrices erat tortor sollicitudin mi sit amet lobortis sapien sapien non mi integer ac neque duis bibendum morbi non',\n",
       " 'tags': 1,\n",
       " 'Category': 'lifestyle',\n",
       " 'filteredPicture': False,\n",
       " 'hour': 0,\n",
       " 'year': 0}"
      ]
     },
     "execution_count": 30,
     "metadata": {},
     "output_type": "execute_result"
    }
   ],
   "source": [
    "# Retorna 1 item\n",
    "posts.find_one()"
   ]
  },
  {
   "cell_type": "code",
   "execution_count": 31,
   "metadata": {},
   "outputs": [],
   "source": [
    "# Fazendo a extração das datas\n",
    "for data in posts.find({}): # Para cada dado dentro da coleção de dados (posts)\n",
    "    posts.update_one({\"_id\": data['_id']}, # Verificamos se temos realmente o id correto; atualizamos (update_one)\n",
    "                     {'$set': {'hour' : data['creationDate'].split('T')[1].split(':')[0],  # setamos a coluna de hora, com o valor extraido de 'creationDate'\n",
    "                               'year' : data['creationDate'].split('T')[0].split('-')[0] }}\n",
    "    # Lembrando que find_one() traz 1 registro específico, já find() traz todos"
   ]
  },
  {
   "cell_type": "code",
   "execution_count": 32,
   "metadata": {},
   "outputs": [
    {
     "data": {
      "text/plain": [
       "{'_id': ObjectId('621562fd3cc1966e2c43e64f'),\n",
       " 'status': 'public',\n",
       " 'creationDate': '2017-07-17T20:05:49Z',\n",
       " 'allowComments': True,\n",
       " 'title': 'ligula nec sem duis aliquam',\n",
       " 'description': 'in felis eu sapien cursus vestibulum proin eu mi nulla ac enim in tempor turpis nec euismod scelerisque quam turpis adipiscing lorem vitae mattis nibh ligula nec sem duis aliquam convallis nunc proin at turpis a pede posuere nonummy integer non velit donec diam neque vestibulum eget vulputate ut ultrices vel augue vestibulum ante ipsum primis in faucibus orci luctus et ultrices posuere cubilia curae donec pharetra magna vestibulum aliquet ultrices erat tortor sollicitudin mi sit amet lobortis sapien sapien non mi integer ac neque duis bibendum morbi non',\n",
       " 'tags': 1,\n",
       " 'Category': 'lifestyle',\n",
       " 'filteredPicture': False,\n",
       " 'hour': '20',\n",
       " 'year': '2017'}"
      ]
     },
     "execution_count": 32,
     "metadata": {},
     "output_type": "execute_result"
    }
   ],
   "source": [
    "# Retorna 1 item\n",
    "posts.find_one()"
   ]
  },
  {
   "attachments": {},
   "cell_type": "markdown",
   "metadata": {},
   "source": [
    ">Agora já podemos efetuar a agregação"
   ]
  },
  {
   "cell_type": "code",
   "execution_count": 33,
   "metadata": {},
   "outputs": [],
   "source": [
    "# Agregação\n",
    "posts_yr = posts.aggregate([{\"$group\": {\"_id\": \"$year\", \"count\": {\"$sum\": 1}}},\n",
    "                            {\"$sort\": {\"_id.year\": 1, \"count\": 1}}])"
   ]
  },
  {
   "cell_type": "code",
   "execution_count": 34,
   "metadata": {},
   "outputs": [
    {
     "data": {
      "text/html": [
       "<div>\n",
       "<style scoped>\n",
       "    .dataframe tbody tr th:only-of-type {\n",
       "        vertical-align: middle;\n",
       "    }\n",
       "\n",
       "    .dataframe tbody tr th {\n",
       "        vertical-align: top;\n",
       "    }\n",
       "\n",
       "    .dataframe thead th {\n",
       "        text-align: right;\n",
       "    }\n",
       "</style>\n",
       "<table border=\"1\" class=\"dataframe\">\n",
       "  <thead>\n",
       "    <tr style=\"text-align: right;\">\n",
       "      <th></th>\n",
       "      <th>_id</th>\n",
       "      <th>count</th>\n",
       "    </tr>\n",
       "  </thead>\n",
       "  <tbody>\n",
       "    <tr>\n",
       "      <th>0</th>\n",
       "      <td>2015</td>\n",
       "      <td>76</td>\n",
       "    </tr>\n",
       "    <tr>\n",
       "      <th>1</th>\n",
       "      <td>2016</td>\n",
       "      <td>299</td>\n",
       "    </tr>\n",
       "    <tr>\n",
       "      <th>2</th>\n",
       "      <td>2019</td>\n",
       "      <td>303</td>\n",
       "    </tr>\n",
       "    <tr>\n",
       "      <th>3</th>\n",
       "      <td>2017</td>\n",
       "      <td>309</td>\n",
       "    </tr>\n",
       "    <tr>\n",
       "      <th>4</th>\n",
       "      <td>2021</td>\n",
       "      <td>330</td>\n",
       "    </tr>\n",
       "    <tr>\n",
       "      <th>5</th>\n",
       "      <td>2020</td>\n",
       "      <td>334</td>\n",
       "    </tr>\n",
       "    <tr>\n",
       "      <th>6</th>\n",
       "      <td>2018</td>\n",
       "      <td>349</td>\n",
       "    </tr>\n",
       "  </tbody>\n",
       "</table>\n",
       "</div>"
      ],
      "text/plain": [
       "    _id  count\n",
       "0  2015     76\n",
       "1  2016    299\n",
       "2  2019    303\n",
       "3  2017    309\n",
       "4  2021    330\n",
       "5  2020    334\n",
       "6  2018    349"
      ]
     },
     "execution_count": 34,
     "metadata": {},
     "output_type": "execute_result"
    }
   ],
   "source": [
    "# Convetendo o resultado obtido em um Dataframe\n",
    "py_df = pd.DataFrame(list(posts_yr))\n",
    "py_df"
   ]
  },
  {
   "cell_type": "code",
   "execution_count": 35,
   "metadata": {},
   "outputs": [
    {
     "data": {
      "text/plain": [
       "<AxesSubplot:title={'center':'Número de Posts Por Ano'}, xlabel='_id'>"
      ]
     },
     "execution_count": 35,
     "metadata": {},
     "output_type": "execute_result"
    },
    {
     "data": {
      "image/png": "[encoded data removed]",
      "text/plain": [
       "<Figure size 432x288 with 1 Axes>"
      ]
     },
     "metadata": {
      "needs_background": "light"
     },
     "output_type": "display_data"
    }
   ],
   "source": [
    "# Plot com gráfico de linhas\n",
    "py_df.plot.line(x = '_id',\n",
    "                y = 'count',\n",
    "                title = \"Número de Posts Por Ano\")"
   ]
  },
  {
   "attachments": {},
   "cell_type": "markdown",
   "metadata": {},
   "source": [
    "> Exibindo o horário com maior número de posts"
   ]
  },
  {
   "cell_type": "code",
   "execution_count": 36,
   "metadata": {},
   "outputs": [],
   "source": [
    "# Agregação e ordenação\n",
    "posts_hr = posts.aggregate([{\"$group\": {\"_id\": \"$hour\", \"count\": {\"$sum\": 1}}},\n",
    "                            {\"$sort\": {\"_id.hour\": 1, \"count\": -1}}])"
   ]
  },
  {
   "cell_type": "code",
   "execution_count": 37,
   "metadata": {},
   "outputs": [
    {
     "name": "stdout",
     "output_type": "stream",
     "text": [
      "{'_id': '00', 'count': 103}\n",
      "{'_id': '08', 'count': 101}\n",
      "{'_id': '02', 'count': 99}\n"
     ]
    }
   ],
   "source": [
    "for i in range(3):\n",
    "    print(posts_hr.next())"
   ]
  },
  {
   "attachments": {},
   "cell_type": "markdown",
   "metadata": {},
   "source": [
    "> Número de posts em hora cheia (terminada por 00) por categoria."
   ]
  },
  {
   "cell_type": "code",
   "execution_count": 38,
   "metadata": {},
   "outputs": [],
   "source": [
    "cat_00 = posts.aggregate([{\"$match\": {\"hour\": \"00\"}},\n",
    "                          {\"$group\": {\"_id\": \"$Category\", \"count\": {\"$sum\": 1}}},\n",
    "                          {\"$sort\": {\"_id.Category\": 1, \"count\": -1}}])"
   ]
  },
  {
   "cell_type": "code",
   "execution_count": 39,
   "metadata": {},
   "outputs": [],
   "source": [
    "c0_df = pd.DataFrame(list(cat_00))"
   ]
  },
  {
   "cell_type": "code",
   "execution_count": 40,
   "metadata": {},
   "outputs": [
    {
     "data": {
      "text/plain": [
       "<AxesSubplot:title={'center':'Número de Posts em Hora Cheia'}, xlabel='_id'>"
      ]
     },
     "execution_count": 40,
     "metadata": {},
     "output_type": "execute_result"
    },
    {
     "data": {
      "image/png": "[encoded data removed]",
      "text/plain": [
       "<Figure size 432x288 with 1 Axes>"
      ]
     },
     "metadata": {
      "needs_background": "light"
     },
     "output_type": "display_data"
    }
   ],
   "source": [
    "# Plotando com gráfico de barras\n",
    "c0_df.plot.bar(\n",
    "    x = '_id', \n",
    "    y = 'count', \n",
    "    title = \"Número de Posts em Hora Cheia\"\n",
    ")"
   ]
  },
  {
   "attachments": {},
   "cell_type": "markdown",
   "metadata": {},
   "source": [
    "> Exibindo o número de posts que permitem comentários"
   ]
  },
  {
   "cell_type": "code",
   "execution_count": 41,
   "metadata": {},
   "outputs": [],
   "source": [
    "# Contagem\n",
    "com = posts.count_documents({'allowComments':True})"
   ]
  },
  {
   "cell_type": "code",
   "execution_count": 42,
   "metadata": {},
   "outputs": [
    {
     "name": "stdout",
     "output_type": "stream",
     "text": [
      "Número de Posts Que Permitem Comentários: 964\n"
     ]
    }
   ],
   "source": [
    "print(\"Número de Posts Que Permitem Comentários:\", com)"
   ]
  },
  {
   "cell_type": "code",
   "execution_count": 43,
   "metadata": {},
   "outputs": [
    {
     "name": "stdout",
     "output_type": "stream",
     "text": [
      "Número de Posts Que Não Permitem Comentários: 1036\n"
     ]
    }
   ],
   "source": [
    "print(\"Número de Posts Que Não Permitem Comentários:\", n-com) # n-com é a negação da variável"
   ]
  },
  {
   "cell_type": "code",
   "execution_count": 44,
   "metadata": {},
   "outputs": [
    {
     "data": {
      "text/plain": [
       "Text(0, 0.5, 'Número de Posts')"
      ]
     },
     "execution_count": 44,
     "metadata": {},
     "output_type": "execute_result"
    },
    {
     "data": {
      "image/png": "[encoded data removed]",
      "text/plain": [
       "<Figure size 432x288 with 1 Axes>"
      ]
     },
     "metadata": {},
     "output_type": "display_data"
    }
   ],
   "source": [
    "# Plot em barras\n",
    "sns.set_style('darkgrid')\n",
    "x = ['Commented', 'Uncommented']\n",
    "y = [com, n-com]\n",
    "sns.barplot(x, y, palette = 'twilight_r')\n",
    "plt.title(\"Número de Posts Com e Sem Comentários\")\n",
    "plt.xlabel(\"Status\")\n",
    "plt.ylabel(\"Número de Posts\")"
   ]
  },
  {
   "attachments": {},
   "cell_type": "markdown",
   "metadata": {},
   "source": [
    "> 1. Comprimento (número de palavras) do título dos posts, filtrando por categoria<br>\n",
    "> 2. Como não temos uma coluna que exerce essa função, criaremos uma"
   ]
  },
  {
   "cell_type": "code",
   "execution_count": 45,
   "metadata": {},
   "outputs": [
    {
     "data": {
      "text/plain": [
       "{'_id': ObjectId('621562fd3cc1966e2c43e64f'),\n",
       " 'status': 'public',\n",
       " 'creationDate': '2017-07-17T20:05:49Z',\n",
       " 'allowComments': True,\n",
       " 'title': 'ligula nec sem duis aliquam',\n",
       " 'description': 'in felis eu sapien cursus vestibulum proin eu mi nulla ac enim in tempor turpis nec euismod scelerisque quam turpis adipiscing lorem vitae mattis nibh ligula nec sem duis aliquam convallis nunc proin at turpis a pede posuere nonummy integer non velit donec diam neque vestibulum eget vulputate ut ultrices vel augue vestibulum ante ipsum primis in faucibus orci luctus et ultrices posuere cubilia curae donec pharetra magna vestibulum aliquet ultrices erat tortor sollicitudin mi sit amet lobortis sapien sapien non mi integer ac neque duis bibendum morbi non',\n",
       " 'tags': 1,\n",
       " 'Category': 'lifestyle',\n",
       " 'filteredPicture': False,\n",
       " 'hour': '20',\n",
       " 'year': '2017'}"
      ]
     },
     "execution_count": 45,
     "metadata": {},
     "output_type": "execute_result"
    }
   ],
   "source": [
    "# Retorna 1 item\n",
    "posts.find_one()"
   ]
  },
  {
   "cell_type": "code",
   "execution_count": 46,
   "metadata": {},
   "outputs": [],
   "source": [
    "# Cria a nova coluna\n",
    "datalake.posts.update_many({}, {'$set': {\"length_of_heading\": 0}}) # inicializando com 0"
   ]
  },
  {
   "cell_type": "code",
   "execution_count": 47,
   "metadata": {},
   "outputs": [],
   "source": [
    "# Preenchendo a coluna\n",
    "for data in posts.find({}):\n",
    "    posts.update_one({\"_id\": data['_id']},\n",
    "                     {'$set': {'length_of_heading' : len(data['title'].split(' '))}}) # pega o comprimento da string e corta pelo 'espaço'"
   ]
  },
  {
   "cell_type": "code",
   "execution_count": 49,
   "metadata": {},
   "outputs": [
    {
     "data": {
      "text/plain": [
       "<pymongo.command_cursor.CommandCursor at 0x7fcfaf3567f0>"
      ]
     },
     "execution_count": 49,
     "metadata": {},
     "output_type": "execute_result"
    }
   ],
   "source": [
    "# Agrupamento e ordenação\n",
    "len_titles = posts.aggregate([{\"$group\": {\"_id\": \"$length_of_heading\", \"count\": {\"$sum\": 1}}},\n",
    "                              {\"$sort\": {\"_id.length_of_heading\": 1, \"count\": -1}}])\n",
    "len_titles "
   ]
  },
  {
   "attachments": {},
   "cell_type": "markdown",
   "metadata": {},
   "source": [
    ">Note que len_titles está em um formato de cursor do pymongo, por isso, faremos a conversão em DataFrame para podermos trabalhar com um formato adequado"
   ]
  },
  {
   "cell_type": "code",
   "execution_count": 50,
   "metadata": {},
   "outputs": [
    {
     "data": {
      "text/html": [
       "<div>\n",
       "<style scoped>\n",
       "    .dataframe tbody tr th:only-of-type {\n",
       "        vertical-align: middle;\n",
       "    }\n",
       "\n",
       "    .dataframe tbody tr th {\n",
       "        vertical-align: top;\n",
       "    }\n",
       "\n",
       "    .dataframe thead th {\n",
       "        text-align: right;\n",
       "    }\n",
       "</style>\n",
       "<table border=\"1\" class=\"dataframe\">\n",
       "  <thead>\n",
       "    <tr style=\"text-align: right;\">\n",
       "      <th></th>\n",
       "      <th>_id</th>\n",
       "      <th>count</th>\n",
       "    </tr>\n",
       "  </thead>\n",
       "  <tbody>\n",
       "    <tr>\n",
       "      <th>0</th>\n",
       "      <td>3</td>\n",
       "      <td>355</td>\n",
       "    </tr>\n",
       "    <tr>\n",
       "      <th>1</th>\n",
       "      <td>4</td>\n",
       "      <td>345</td>\n",
       "    </tr>\n",
       "    <tr>\n",
       "      <th>2</th>\n",
       "      <td>1</td>\n",
       "      <td>343</td>\n",
       "    </tr>\n",
       "    <tr>\n",
       "      <th>3</th>\n",
       "      <td>5</td>\n",
       "      <td>337</td>\n",
       "    </tr>\n",
       "    <tr>\n",
       "      <th>4</th>\n",
       "      <td>6</td>\n",
       "      <td>336</td>\n",
       "    </tr>\n",
       "    <tr>\n",
       "      <th>5</th>\n",
       "      <td>2</td>\n",
       "      <td>284</td>\n",
       "    </tr>\n",
       "  </tbody>\n",
       "</table>\n",
       "</div>"
      ],
      "text/plain": [
       "   _id  count\n",
       "0    3    355\n",
       "1    4    345\n",
       "2    1    343\n",
       "3    5    337\n",
       "4    6    336\n",
       "5    2    284"
      ]
     },
     "execution_count": 50,
     "metadata": {},
     "output_type": "execute_result"
    }
   ],
   "source": [
    "# Convertendo em DataFrame\n",
    "title_df = pd.DataFrame(list(len_titles))\n",
    "title_df.head(10)"
   ]
  },
  {
   "cell_type": "code",
   "execution_count": 51,
   "metadata": {},
   "outputs": [
    {
     "data": {
      "image/png": "[encoded data removed]",
      "text/plain": [
       "<Figure size 432x288 with 1 Axes>"
      ]
     },
     "metadata": {},
     "output_type": "display_data"
    }
   ],
   "source": [
    "# Plot com gráfico de linhas\n",
    "ax = sns.lineplot(x = '_id', y = 'count', data = title_df, color = 'green')\n",
    "ax.lines[0].set_linestyle(\"--\")\n",
    "plt.show()"
   ]
  },
  {
   "attachments": {},
   "cell_type": "markdown",
   "metadata": {},
   "source": [
    "> Número de tags por categoria de posts"
   ]
  },
  {
   "attachments": {},
   "cell_type": "markdown",
   "metadata": {},
   "source": [
    "Etapa mais tranquila e que se resume a agregações e ordenações"
   ]
  },
  {
   "cell_type": "code",
   "execution_count": 52,
   "metadata": {},
   "outputs": [],
   "source": [
    "# Agregação\n",
    "tags = posts.aggregate([{\"$group\": {\"_id\": \"$tags\", \"count\": {\"$sum\": 1}}},\n",
    "                        {\"$sort\": {\"_id.tags\": 1, \"count\": -1}}])"
   ]
  },
  {
   "cell_type": "code",
   "execution_count": 53,
   "metadata": {},
   "outputs": [
    {
     "data": {
      "text/plain": [
       "<pymongo.cursor.Cursor at 0x7fcfaffb3490>"
      ]
     },
     "execution_count": 53,
     "metadata": {},
     "output_type": "execute_result"
    }
   ],
   "source": [
    "cat_tags = posts.find({'tags': {'$gt':0}}, {'Category':1})\n",
    "cat_tags"
   ]
  },
  {
   "attachments": {},
   "cell_type": "markdown",
   "metadata": {},
   "source": [
    "Categorias com posts com maior número de tags e com número de tags maior do que zero"
   ]
  },
  {
   "cell_type": "code",
   "execution_count": 54,
   "metadata": {},
   "outputs": [],
   "source": [
    "cat_tags = posts.aggregate([{\"$match\": {\"tags\": {\"$gt\":0}}},\n",
    "                            {\"$group\": {\"_id\": \"$Category\", \"count\": {\"$sum\": 1}}},\n",
    "                            {\"$sort\": {\"_id.tags\": 1, \"count\": -1}}])"
   ]
  },
  {
   "cell_type": "code",
   "execution_count": 55,
   "metadata": {},
   "outputs": [
    {
     "data": {
      "text/html": [
       "<div>\n",
       "<style scoped>\n",
       "    .dataframe tbody tr th:only-of-type {\n",
       "        vertical-align: middle;\n",
       "    }\n",
       "\n",
       "    .dataframe tbody tr th {\n",
       "        vertical-align: top;\n",
       "    }\n",
       "\n",
       "    .dataframe thead th {\n",
       "        text-align: right;\n",
       "    }\n",
       "</style>\n",
       "<table border=\"1\" class=\"dataframe\">\n",
       "  <thead>\n",
       "    <tr style=\"text-align: right;\">\n",
       "      <th></th>\n",
       "      <th>_id</th>\n",
       "      <th>count</th>\n",
       "    </tr>\n",
       "  </thead>\n",
       "  <tbody>\n",
       "    <tr>\n",
       "      <th>0</th>\n",
       "      <td>fashion</td>\n",
       "      <td>276</td>\n",
       "    </tr>\n",
       "    <tr>\n",
       "      <th>1</th>\n",
       "      <td>arts</td>\n",
       "      <td>276</td>\n",
       "    </tr>\n",
       "    <tr>\n",
       "      <th>2</th>\n",
       "      <td>movies</td>\n",
       "      <td>264</td>\n",
       "    </tr>\n",
       "    <tr>\n",
       "      <th>3</th>\n",
       "      <td>lifestyle</td>\n",
       "      <td>262</td>\n",
       "    </tr>\n",
       "    <tr>\n",
       "      <th>4</th>\n",
       "      <td>politics</td>\n",
       "      <td>258</td>\n",
       "    </tr>\n",
       "    <tr>\n",
       "      <th>5</th>\n",
       "      <td>educational</td>\n",
       "      <td>255</td>\n",
       "    </tr>\n",
       "    <tr>\n",
       "      <th>6</th>\n",
       "      <td>sports</td>\n",
       "      <td>235</td>\n",
       "    </tr>\n",
       "  </tbody>\n",
       "</table>\n",
       "</div>"
      ],
      "text/plain": [
       "           _id  count\n",
       "0      fashion    276\n",
       "1         arts    276\n",
       "2       movies    264\n",
       "3    lifestyle    262\n",
       "4     politics    258\n",
       "5  educational    255\n",
       "6       sports    235"
      ]
     },
     "execution_count": 55,
     "metadata": {},
     "output_type": "execute_result"
    }
   ],
   "source": [
    "ct_df = pd.DataFrame(list(cat_tags))\n",
    "ct_df"
   ]
  },
  {
   "cell_type": "code",
   "execution_count": 56,
   "metadata": {},
   "outputs": [
    {
     "data": {
      "text/plain": [
       "<AxesSubplot:xlabel='_id', ylabel='count'>"
      ]
     },
     "execution_count": 56,
     "metadata": {},
     "output_type": "execute_result"
    },
    {
     "data": {
      "image/png": "[encoded data removed]",
      "text/plain": [
       "<Figure size 432x288 with 1 Axes>"
      ]
     },
     "metadata": {},
     "output_type": "display_data"
    }
   ],
   "source": [
    "# Plotando\n",
    "sns.barplot(x = '_id', y = 'count', data = ct_df, palette = 'twilight_r')"
   ]
  },
  {
   "attachments": {},
   "cell_type": "markdown",
   "metadata": {},
   "source": [
    "> Categoria usa mais filtros de fotos/imagens"
   ]
  },
  {
   "cell_type": "code",
   "execution_count": 57,
   "metadata": {},
   "outputs": [],
   "source": [
    "# Filtro, agregação e ordenação\n",
    "cat_fs = posts.aggregate([{\"$match\": {\"filteredPicture\": True}},\n",
    "                          {\"$group\":{\"_id\": \"$Category\", \"count\": {\"$sum\": 1}}},\n",
    "                          {\"$sort\": {\"_id.tags\": 1, \"count\": -1}}])"
   ]
  },
  {
   "cell_type": "code",
   "execution_count": 58,
   "metadata": {},
   "outputs": [
    {
     "name": "stdout",
     "output_type": "stream",
     "text": [
      "{'_id': 'fashion', 'count': 159}\n",
      "{'_id': 'movies', 'count': 154}\n",
      "{'_id': 'arts', 'count': 146}\n",
      "{'_id': 'lifestyle', 'count': 136}\n",
      "{'_id': 'educational', 'count': 135}\n",
      "{'_id': 'politics', 'count': 131}\n",
      "{'_id': 'sports', 'count': 117}\n"
     ]
    }
   ],
   "source": [
    "# Fazendo um loop e chamando sempre o próximo resultado\n",
    "for i in range(7):\n",
    "    print(cat_fs.next())"
   ]
  },
  {
   "attachments": {},
   "cell_type": "markdown",
   "metadata": {},
   "source": [
    "> Categorias com descrições dos posts mais longos (com maior número de palavras) e acima de 60 caracteres"
   ]
  },
  {
   "cell_type": "code",
   "execution_count": 59,
   "metadata": {},
   "outputs": [],
   "source": [
    "# Criando a variável com a informação\n",
    "datalake.posts.update_many({}, {'$set': {\"length_of_des\": 0}});"
   ]
  },
  {
   "cell_type": "code",
   "execution_count": 60,
   "metadata": {},
   "outputs": [],
   "source": [
    "# Preenchendo a variável\n",
    "for data in posts.find({}):\n",
    "    posts.update_one({\"_id\": data['_id']}, {'$set': {'length_of_des': len(data['description'].split(' '))}})"
   ]
  },
  {
   "cell_type": "code",
   "execution_count": 61,
   "metadata": {},
   "outputs": [],
   "source": [
    "# Filtro, agregação e ordenação\n",
    "cat_des = posts.aggregate([{\"$match\": {\"length_of_des\": {\"$gte\":60}}},\n",
    "                           {\"$group\":{\"_id\": \"$Category\", \"count\": {\"$sum\": 1}}},\n",
    "                           {\"$sort\": {\"_id.tags\": 1, \"count\": -1}}])"
   ]
  },
  {
   "cell_type": "code",
   "execution_count": 62,
   "metadata": {},
   "outputs": [
    {
     "name": "stdout",
     "output_type": "stream",
     "text": [
      "{'_id': 'arts', 'count': 178}\n",
      "{'_id': 'fashion', 'count': 161}\n",
      "{'_id': 'movies', 'count': 159}\n",
      "{'_id': 'educational', 'count': 156}\n",
      "{'_id': 'lifestyle', 'count': 156}\n",
      "{'_id': 'politics', 'count': 146}\n",
      "{'_id': 'sports', 'count': 130}\n"
     ]
    }
   ],
   "source": [
    "# Imprimindo os resultados\n",
    "for i in range(7):\n",
    "    print(cat_des.next())"
   ]
  },
  {
   "attachments": {},
   "cell_type": "markdown",
   "metadata": {},
   "source": [
    ">Variação do número de posts (descrição) por hora e dia (se eles aumentam ou diminuem)"
   ]
  },
  {
   "cell_type": "code",
   "execution_count": 63,
   "metadata": {},
   "outputs": [],
   "source": [
    "# Agregação e ordenação por hora e categoria\n",
    "posts_hr = posts.aggregate([{\"$group\": {\"_id\": [\"$hour\", \"$Category\"], \"count\": {\"$sum\": 1}}},\n",
    "                            {\"$sort\": {\"_id.hour\": 1, \"count\": -1}}])"
   ]
  },
  {
   "cell_type": "code",
   "execution_count": 64,
   "metadata": {},
   "outputs": [
    {
     "data": {
      "text/html": [
       "<div>\n",
       "<style scoped>\n",
       "    .dataframe tbody tr th:only-of-type {\n",
       "        vertical-align: middle;\n",
       "    }\n",
       "\n",
       "    .dataframe tbody tr th {\n",
       "        vertical-align: top;\n",
       "    }\n",
       "\n",
       "    .dataframe thead th {\n",
       "        text-align: right;\n",
       "    }\n",
       "</style>\n",
       "<table border=\"1\" class=\"dataframe\">\n",
       "  <thead>\n",
       "    <tr style=\"text-align: right;\">\n",
       "      <th></th>\n",
       "      <th>_id</th>\n",
       "      <th>count</th>\n",
       "    </tr>\n",
       "  </thead>\n",
       "  <tbody>\n",
       "    <tr>\n",
       "      <th>0</th>\n",
       "      <td>[11, arts]</td>\n",
       "      <td>23</td>\n",
       "    </tr>\n",
       "    <tr>\n",
       "      <th>1</th>\n",
       "      <td>[08, politics]</td>\n",
       "      <td>21</td>\n",
       "    </tr>\n",
       "    <tr>\n",
       "      <th>2</th>\n",
       "      <td>[16, lifestyle]</td>\n",
       "      <td>20</td>\n",
       "    </tr>\n",
       "    <tr>\n",
       "      <th>3</th>\n",
       "      <td>[11, educational]</td>\n",
       "      <td>20</td>\n",
       "    </tr>\n",
       "    <tr>\n",
       "      <th>4</th>\n",
       "      <td>[05, arts]</td>\n",
       "      <td>19</td>\n",
       "    </tr>\n",
       "    <tr>\n",
       "      <th>...</th>\n",
       "      <td>...</td>\n",
       "      <td>...</td>\n",
       "    </tr>\n",
       "    <tr>\n",
       "      <th>163</th>\n",
       "      <td>[06, sports]</td>\n",
       "      <td>5</td>\n",
       "    </tr>\n",
       "    <tr>\n",
       "      <th>164</th>\n",
       "      <td>[22, politics]</td>\n",
       "      <td>5</td>\n",
       "    </tr>\n",
       "    <tr>\n",
       "      <th>165</th>\n",
       "      <td>[13, sports]</td>\n",
       "      <td>5</td>\n",
       "    </tr>\n",
       "    <tr>\n",
       "      <th>166</th>\n",
       "      <td>[11, lifestyle]</td>\n",
       "      <td>4</td>\n",
       "    </tr>\n",
       "    <tr>\n",
       "      <th>167</th>\n",
       "      <td>[12, politics]</td>\n",
       "      <td>3</td>\n",
       "    </tr>\n",
       "  </tbody>\n",
       "</table>\n",
       "<p>168 rows × 2 columns</p>\n",
       "</div>"
      ],
      "text/plain": [
       "                   _id  count\n",
       "0           [11, arts]     23\n",
       "1       [08, politics]     21\n",
       "2      [16, lifestyle]     20\n",
       "3    [11, educational]     20\n",
       "4           [05, arts]     19\n",
       "..                 ...    ...\n",
       "163       [06, sports]      5\n",
       "164     [22, politics]      5\n",
       "165       [13, sports]      5\n",
       "166    [11, lifestyle]      4\n",
       "167     [12, politics]      3\n",
       "\n",
       "[168 rows x 2 columns]"
      ]
     },
     "execution_count": 64,
     "metadata": {},
     "output_type": "execute_result"
    }
   ],
   "source": [
    "postshr_df = pd.DataFrame(posts_hr)\n",
    "postshr_df"
   ]
  },
  {
   "attachments": {},
   "cell_type": "markdown",
   "metadata": {},
   "source": [
    ">Apesar de ter facilitado para visualizarmos o horário e a categoria dos posts, não daria para plotar tais resultados para análise, por isso, faremos um split em 2 partes da coluna _id"
   ]
  },
  {
   "cell_type": "code",
   "execution_count": 65,
   "metadata": {},
   "outputs": [
    {
     "data": {
      "text/html": [
       "<div>\n",
       "<style scoped>\n",
       "    .dataframe tbody tr th:only-of-type {\n",
       "        vertical-align: middle;\n",
       "    }\n",
       "\n",
       "    .dataframe tbody tr th {\n",
       "        vertical-align: top;\n",
       "    }\n",
       "\n",
       "    .dataframe thead th {\n",
       "        text-align: right;\n",
       "    }\n",
       "</style>\n",
       "<table border=\"1\" class=\"dataframe\">\n",
       "  <thead>\n",
       "    <tr style=\"text-align: right;\">\n",
       "      <th></th>\n",
       "      <th>hour</th>\n",
       "      <th>category</th>\n",
       "    </tr>\n",
       "  </thead>\n",
       "  <tbody>\n",
       "    <tr>\n",
       "      <th>0</th>\n",
       "      <td>11</td>\n",
       "      <td>arts</td>\n",
       "    </tr>\n",
       "    <tr>\n",
       "      <th>1</th>\n",
       "      <td>08</td>\n",
       "      <td>politics</td>\n",
       "    </tr>\n",
       "    <tr>\n",
       "      <th>2</th>\n",
       "      <td>16</td>\n",
       "      <td>lifestyle</td>\n",
       "    </tr>\n",
       "    <tr>\n",
       "      <th>3</th>\n",
       "      <td>11</td>\n",
       "      <td>educational</td>\n",
       "    </tr>\n",
       "    <tr>\n",
       "      <th>4</th>\n",
       "      <td>05</td>\n",
       "      <td>arts</td>\n",
       "    </tr>\n",
       "    <tr>\n",
       "      <th>...</th>\n",
       "      <td>...</td>\n",
       "      <td>...</td>\n",
       "    </tr>\n",
       "    <tr>\n",
       "      <th>163</th>\n",
       "      <td>06</td>\n",
       "      <td>sports</td>\n",
       "    </tr>\n",
       "    <tr>\n",
       "      <th>164</th>\n",
       "      <td>22</td>\n",
       "      <td>politics</td>\n",
       "    </tr>\n",
       "    <tr>\n",
       "      <th>165</th>\n",
       "      <td>13</td>\n",
       "      <td>sports</td>\n",
       "    </tr>\n",
       "    <tr>\n",
       "      <th>166</th>\n",
       "      <td>11</td>\n",
       "      <td>lifestyle</td>\n",
       "    </tr>\n",
       "    <tr>\n",
       "      <th>167</th>\n",
       "      <td>12</td>\n",
       "      <td>politics</td>\n",
       "    </tr>\n",
       "  </tbody>\n",
       "</table>\n",
       "<p>168 rows × 2 columns</p>\n",
       "</div>"
      ],
      "text/plain": [
       "    hour     category\n",
       "0     11         arts\n",
       "1     08     politics\n",
       "2     16    lifestyle\n",
       "3     11  educational\n",
       "4     05         arts\n",
       "..   ...          ...\n",
       "163   06       sports\n",
       "164   22     politics\n",
       "165   13       sports\n",
       "166   11    lifestyle\n",
       "167   12     politics\n",
       "\n",
       "[168 rows x 2 columns]"
      ]
     },
     "execution_count": 65,
     "metadata": {},
     "output_type": "execute_result"
    }
   ],
   "source": [
    "# Split\n",
    "split_df = pd.DataFrame(postshr_df ['_id'].to_list(), columns = ['hour', 'category'])\n",
    "split_df"
   ]
  },
  {
   "cell_type": "code",
   "execution_count": 66,
   "metadata": {},
   "outputs": [
    {
     "data": {
      "text/html": [
       "<div>\n",
       "<style scoped>\n",
       "    .dataframe tbody tr th:only-of-type {\n",
       "        vertical-align: middle;\n",
       "    }\n",
       "\n",
       "    .dataframe tbody tr th {\n",
       "        vertical-align: top;\n",
       "    }\n",
       "\n",
       "    .dataframe thead th {\n",
       "        text-align: right;\n",
       "    }\n",
       "</style>\n",
       "<table border=\"1\" class=\"dataframe\">\n",
       "  <thead>\n",
       "    <tr style=\"text-align: right;\">\n",
       "      <th></th>\n",
       "      <th>hour</th>\n",
       "      <th>category</th>\n",
       "      <th>count</th>\n",
       "    </tr>\n",
       "  </thead>\n",
       "  <tbody>\n",
       "    <tr>\n",
       "      <th>0</th>\n",
       "      <td>11</td>\n",
       "      <td>arts</td>\n",
       "      <td>23</td>\n",
       "    </tr>\n",
       "    <tr>\n",
       "      <th>1</th>\n",
       "      <td>08</td>\n",
       "      <td>politics</td>\n",
       "      <td>21</td>\n",
       "    </tr>\n",
       "    <tr>\n",
       "      <th>2</th>\n",
       "      <td>16</td>\n",
       "      <td>lifestyle</td>\n",
       "      <td>20</td>\n",
       "    </tr>\n",
       "    <tr>\n",
       "      <th>3</th>\n",
       "      <td>11</td>\n",
       "      <td>educational</td>\n",
       "      <td>20</td>\n",
       "    </tr>\n",
       "    <tr>\n",
       "      <th>4</th>\n",
       "      <td>05</td>\n",
       "      <td>arts</td>\n",
       "      <td>19</td>\n",
       "    </tr>\n",
       "    <tr>\n",
       "      <th>...</th>\n",
       "      <td>...</td>\n",
       "      <td>...</td>\n",
       "      <td>...</td>\n",
       "    </tr>\n",
       "    <tr>\n",
       "      <th>163</th>\n",
       "      <td>06</td>\n",
       "      <td>sports</td>\n",
       "      <td>5</td>\n",
       "    </tr>\n",
       "    <tr>\n",
       "      <th>164</th>\n",
       "      <td>22</td>\n",
       "      <td>politics</td>\n",
       "      <td>5</td>\n",
       "    </tr>\n",
       "    <tr>\n",
       "      <th>165</th>\n",
       "      <td>13</td>\n",
       "      <td>sports</td>\n",
       "      <td>5</td>\n",
       "    </tr>\n",
       "    <tr>\n",
       "      <th>166</th>\n",
       "      <td>11</td>\n",
       "      <td>lifestyle</td>\n",
       "      <td>4</td>\n",
       "    </tr>\n",
       "    <tr>\n",
       "      <th>167</th>\n",
       "      <td>12</td>\n",
       "      <td>politics</td>\n",
       "      <td>3</td>\n",
       "    </tr>\n",
       "  </tbody>\n",
       "</table>\n",
       "<p>168 rows × 3 columns</p>\n",
       "</div>"
      ],
      "text/plain": [
       "    hour     category  count\n",
       "0     11         arts     23\n",
       "1     08     politics     21\n",
       "2     16    lifestyle     20\n",
       "3     11  educational     20\n",
       "4     05         arts     19\n",
       "..   ...          ...    ...\n",
       "163   06       sports      5\n",
       "164   22     politics      5\n",
       "165   13       sports      5\n",
       "166   11    lifestyle      4\n",
       "167   12     politics      3\n",
       "\n",
       "[168 rows x 3 columns]"
      ]
     },
     "execution_count": 66,
     "metadata": {},
     "output_type": "execute_result"
    }
   ],
   "source": [
    "# Concatenação\n",
    "df = pd.concat([split_df, postshr_df['count']], axis = 1)\n",
    "df"
   ]
  },
  {
   "cell_type": "code",
   "execution_count": 67,
   "metadata": {},
   "outputs": [
    {
     "data": {
      "text/html": [
       "<div>\n",
       "<style scoped>\n",
       "    .dataframe tbody tr th:only-of-type {\n",
       "        vertical-align: middle;\n",
       "    }\n",
       "\n",
       "    .dataframe tbody tr th {\n",
       "        vertical-align: top;\n",
       "    }\n",
       "\n",
       "    .dataframe thead th {\n",
       "        text-align: right;\n",
       "    }\n",
       "</style>\n",
       "<table border=\"1\" class=\"dataframe\">\n",
       "  <thead>\n",
       "    <tr style=\"text-align: right;\">\n",
       "      <th></th>\n",
       "      <th>hour</th>\n",
       "      <th>category</th>\n",
       "      <th>count</th>\n",
       "    </tr>\n",
       "  </thead>\n",
       "  <tbody>\n",
       "    <tr>\n",
       "      <th>0</th>\n",
       "      <td>11</td>\n",
       "      <td>arts</td>\n",
       "      <td>23</td>\n",
       "    </tr>\n",
       "    <tr>\n",
       "      <th>1</th>\n",
       "      <td>08</td>\n",
       "      <td>politics</td>\n",
       "      <td>21</td>\n",
       "    </tr>\n",
       "    <tr>\n",
       "      <th>2</th>\n",
       "      <td>16</td>\n",
       "      <td>lifestyle</td>\n",
       "      <td>20</td>\n",
       "    </tr>\n",
       "    <tr>\n",
       "      <th>3</th>\n",
       "      <td>11</td>\n",
       "      <td>educational</td>\n",
       "      <td>20</td>\n",
       "    </tr>\n",
       "    <tr>\n",
       "      <th>4</th>\n",
       "      <td>05</td>\n",
       "      <td>arts</td>\n",
       "      <td>19</td>\n",
       "    </tr>\n",
       "    <tr>\n",
       "      <th>5</th>\n",
       "      <td>00</td>\n",
       "      <td>lifestyle</td>\n",
       "      <td>19</td>\n",
       "    </tr>\n",
       "    <tr>\n",
       "      <th>6</th>\n",
       "      <td>10</td>\n",
       "      <td>fashion</td>\n",
       "      <td>19</td>\n",
       "    </tr>\n",
       "    <tr>\n",
       "      <th>7</th>\n",
       "      <td>02</td>\n",
       "      <td>lifestyle</td>\n",
       "      <td>19</td>\n",
       "    </tr>\n",
       "    <tr>\n",
       "      <th>8</th>\n",
       "      <td>14</td>\n",
       "      <td>fashion</td>\n",
       "      <td>18</td>\n",
       "    </tr>\n",
       "    <tr>\n",
       "      <th>9</th>\n",
       "      <td>22</td>\n",
       "      <td>lifestyle</td>\n",
       "      <td>18</td>\n",
       "    </tr>\n",
       "  </tbody>\n",
       "</table>\n",
       "</div>"
      ],
      "text/plain": [
       "  hour     category  count\n",
       "0   11         arts     23\n",
       "1   08     politics     21\n",
       "2   16    lifestyle     20\n",
       "3   11  educational     20\n",
       "4   05         arts     19\n",
       "5   00    lifestyle     19\n",
       "6   10      fashion     19\n",
       "7   02    lifestyle     19\n",
       "8   14      fashion     18\n",
       "9   22    lifestyle     18"
      ]
     },
     "execution_count": 67,
     "metadata": {},
     "output_type": "execute_result"
    }
   ],
   "source": [
    "df.head(10)"
   ]
  },
  {
   "cell_type": "code",
   "execution_count": 68,
   "metadata": {},
   "outputs": [
    {
     "data": {
      "image/png": "[encoded data removed]",
      "text/plain": [
       "<Figure size 432x288 with 1 Axes>"
      ]
     },
     "metadata": {},
     "output_type": "display_data"
    }
   ],
   "source": [
    "# Plotando a análise\n",
    "fig, ax = plt.subplots()\n",
    "for key, grp in df.groupby(['category']):\n",
    "    ax = grp.plot(ax = ax, kind = 'line', x = 'hour', y = 'count', label = key)\n",
    "\n",
    "plt.legend(loc = 'best')\n",
    "plt.show()"
   ]
  },
  {
   "attachments": {},
   "cell_type": "markdown",
   "metadata": {},
   "source": [
    "# Fim"
   ]
  },
  {
   "attachments": {},
   "cell_type": "markdown",
   "metadata": {},
   "source": [
    "**Agradecimento:** DSA <br><br>\n",
    "Mais sobre o autor: https://linktr.ee/universo_jonatas"
   ]
  }
 ],
 "metadata": {
  "kernelspec": {
   "display_name": "Python 3 (ipykernel)",
   "language": "python",
   "name": "python3"
  },
  "language_info": {
   "codemirror_mode": {
    "name": "ipython",
    "version": 3
   },
   "file_extension": ".py",
   "mimetype": "text/x-python",
   "name": "python",
   "nbconvert_exporter": "python",
   "pygments_lexer": "ipython3",
   "version": "3.9.13"
  },
  "toc": {
   "base_numbering": 1,
   "nav_menu": {},
   "number_sections": false,
   "sideBar": false,
   "skip_h1_title": false,
   "title_cell": "Table of Contents",
   "title_sidebar": "Contents",
   "toc_cell": false,
   "toc_position": {},
   "toc_section_display": false,
   "toc_window_display": false
  }
 },
 "nbformat": 4,
 "nbformat_minor": 4
}
